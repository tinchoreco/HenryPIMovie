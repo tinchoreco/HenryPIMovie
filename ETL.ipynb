{
 "cells": [
  {
   "cell_type": "code",
   "execution_count": 26,
   "metadata": {},
   "outputs": [],
   "source": [
    "import pandas as pd\n",
    "import ast"
   ]
  },
  {
   "attachments": {},
   "cell_type": "markdown",
   "metadata": {},
   "source": [
    "Definimos una funcion para evaluar que tipo de datos devuelva la clave name dentro del diccionario y filtrar los valores float"
   ]
  },
  {
   "cell_type": "code",
   "execution_count": 27,
   "metadata": {},
   "outputs": [],
   "source": [
    "def get_collection_name(x):\n",
    "    if pd.isnull(x):\n",
    "        return None\n",
    "    try:\n",
    "        collection = ast.literal_eval(x)\n",
    "        return collection['name']\n",
    "    except (SyntaxError, KeyError, TypeError, ValueError):\n",
    "        return None"
   ]
  },
  {
   "cell_type": "code",
   "execution_count": null,
   "metadata": {},
   "outputs": [],
   "source": [
    "# Cargar el dataset original\n",
    "df = pd.read_csv('movies_dataset.csv')\n",
    "\n",
    "# Desanidar campos anidados\n",
    "df['belongs_to_collection'] = df['belongs_to_collection'].astype(str)\n",
    "df['belongs_to_collection'] = df['belongs_to_collection'].apply(get_collection_name)\n",
    "df['production_companies'] = df['production_companies'].apply(lambda x: eval(x)[0]['name'] if (pd.notnull(x) and eval(x)) else None)\n",
    "\n",
    "# Rellenar valores nulos con 0\n",
    "df['revenue'] = df['revenue'].fillna(0)\n",
    "df['budget'] = df['budget'].fillna(0)\n",
    "\n",
    "# Eliminar filas con valores nulos en release_date\n",
    "df = df.dropna(subset=['release_date'])\n",
    "\n",
    "# Formatear fechas y extraer el año de estreno\n",
    "df['release_date'] = pd.to_datetime(df['release_date'], format='%Y-%m-%d', errors='coerce')\n",
    "df['release_year'] = df['release_date'].dt.year\n",
    "\n",
    "# Convertir las columnas a numericas\n",
    "df['revenue'] = pd.to_numeric(df['revenue'], errors='coerce')\n",
    "df['budget'] = pd.to_numeric(df['budget'], errors='coerce')\n",
    "\n",
    "# eliminamos los 'NaN'\n",
    "df = df.dropna(subset=['revenue', 'budget'])\n",
    "\n",
    "# Calcular retorno de inversión\n",
    "df['return'] = df['revenue'] / df['budget']\n",
    "df['return'] = df['return'].fillna(0)\n",
    "\n",
    "# Eliminar columnas no utilizadas\n",
    "columns_to_drop = ['video', 'imdb_id', 'adult', 'original_title', 'vote_count', 'poster_path', 'homepage']\n",
    "df = df.drop(columns=columns_to_drop)\n",
    "\n",
    "\n",
    "\n",
    "# Guardar el dataset transformado\n",
    "df.to_csv('dataset_transformed.csv', index=False)"
   ]
  }
 ],
 "metadata": {
  "kernelspec": {
   "display_name": "Python 3",
   "language": "python",
   "name": "python3"
  },
  "language_info": {
   "codemirror_mode": {
    "name": "ipython",
    "version": 3
   },
   "file_extension": ".py",
   "mimetype": "text/x-python",
   "name": "python",
   "nbconvert_exporter": "python",
   "pygments_lexer": "ipython3",
   "version": "3.10.5"
  },
  "orig_nbformat": 4
 },
 "nbformat": 4,
 "nbformat_minor": 2
}
